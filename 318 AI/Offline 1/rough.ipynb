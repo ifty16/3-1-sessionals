{
 "cells": [
  {
   "cell_type": "code",
   "execution_count": null,
   "id": "02ccede4",
   "metadata": {},
   "outputs": [
    {
     "ename": "",
     "evalue": "",
     "output_type": "error",
     "traceback": [
      "\u001b[1;31mRunning cells with 'Python 3.13.0' requires the ipykernel package.\n",
      "\u001b[1;31m<a href='command:jupyter.createPythonEnvAndSelectController'>Create a Python Environment</a> with the required packages.\n",
      "\u001b[1;31mOr install 'ipykernel' using the command: 'c:/Users/USERAS/AppData/Local/Programs/Python/Python313/python.exe -m pip install ipykernel -U --user --force-reinstall'"
     ]
    }
   ],
   "source": [
    "import numpy as np\n",
    "\n",
    "BOARD_SIZE = 3\n",
    "INITIAL_STATE = np.zeros((BOARD_SIZE, BOARD_SIZE), dtype=int)\n",
    "INITIAL_STATE[0][0] = 0\n",
    "INITIAL_STATE[0][1] = 1\n",
    "INITIAL_STATE[0][2] = 3\n",
    "INITIAL_STATE[1][0] = 4\n",
    "INITIAL_STATE[1][1] = 2\n",
    "INITIAL_STATE[1][2] = 5\n",
    "INITIAL_STATE[2][0] = 7\n",
    "INITIAL_STATE[2][1] = 8\n",
    "INITIAL_STATE[2][2] = 6\n",
    "\n",
    "\n",
    "\n",
    "class BoardState:\n",
    "    def __init__(self, stateArray2D=None, size=BOARD_SIZE):\n",
    "\n",
    "        if stateArray2D is not None:\n",
    "            self.stateArray2D = np.array(stateArray2D)\n",
    "        else:\n",
    "            self.stateArray2D = np.zeros((size, size), dtype=int)\n",
    "\n",
    "    def print_state(self):\n",
    "        stateArray1D = self.stateArray2D.flatten()\n",
    "        for i in range(0, len(stateArray1D), BOARD_SIZE):\n",
    "            print(stateArray1D[i:i + BOARD_SIZE])\n",
    "        \n",
    "    def generate_neighbors(self):\n",
    "        neighbors = []\n",
    "        for i in range(BOARD_SIZE):\n",
    "            for j in range(BOARD_SIZE):\n",
    "                if self.stateArray2D[i][j] == 0:\n",
    "                    new_state = BoardState(self.stateArray2D.copy())\n",
    "                    new_state.stateArray2D[i][j] = 1\n",
    "                    neighbors.append(new_state)\n",
    "        return neighbors\n",
    "\n",
    "\n",
    "sample_board = BoardState(INITIAL_STATE)\n",
    "sample_board.print_state()"
   ]
  }
 ],
 "metadata": {
  "kernelspec": {
   "display_name": "Python 3",
   "language": "python",
   "name": "python3"
  },
  "language_info": {
   "name": "python",
   "version": "3.13.0"
  }
 },
 "nbformat": 4,
 "nbformat_minor": 5
}
